{
 "cells": [
  {
   "cell_type": "markdown",
   "id": "8a48a49a",
   "metadata": {},
   "source": [
    "### Comparison of Triangular vs. Square Matrices in Ising Model Metropolis"
   ]
  },
  {
   "cell_type": "code",
   "execution_count": 1,
   "id": "2b3a3c24",
   "metadata": {},
   "outputs": [],
   "source": [
    "import ising_metropolis as im"
   ]
  },
  {
   "cell_type": "code",
   "execution_count": 2,
   "id": "a0316690",
   "metadata": {},
   "outputs": [
    {
     "name": "stdout",
     "output_type": "stream",
     "text": [
      "Starting metropolis sweep... \n",
      "\n",
      "Metropolis sweep finished\n"
     ]
    }
   ],
   "source": [
    "grid = im.create_random_grid((20, 20))\n",
    "final_grid, energies, mags = im.metropolis_sweep(grid, T=2.0, J=1.0, lattice_type=0)"
   ]
  },
  {
   "cell_type": "code",
   "execution_count": 3,
   "id": "b2f4ffb4",
   "metadata": {},
   "outputs": [
    {
     "name": "stdout",
     "output_type": "stream",
     "text": [
      "Starting metropolis sweep... \n",
      "\n",
      "Metropolis sweep finished\n"
     ]
    }
   ],
   "source": [
    "grid = im.create_random_grid((20, 20))\n",
    "final_grid, energies, mags = im.metropolis_sweep(grid, T=3.0, J=1.0, lattice_type=1)"
   ]
  },
  {
   "cell_type": "code",
   "execution_count": 8,
   "id": "f824085f",
   "metadata": {},
   "outputs": [
    {
     "name": "stdout",
     "output_type": "stream",
     "text": [
      "Running square lattice...\n",
      "Starting metropolis sweep... \n",
      "\n",
      "Metropolis sweep finished\n",
      "Running triangular lattice...\n",
      "Starting metropolis sweep... \n",
      "\n",
      "Metropolis sweep finished\n",
      "0: Energy=nan, Tc=2.27\n",
      "1: Energy=nan, Tc=3.64\n"
     ]
    }
   ],
   "source": [
    "results = im.compare_lattices(L=32, T=2.5, J=1.0, n_steps=5000)\n",
    "for lattice, data in results.items():\n",
    "    print(f\"{lattice}: Energy={data['mean_energy']}, Tc={data['critical_temp']:.2f}\")"
   ]
  }
 ],
 "metadata": {
  "kernelspec": {
   "display_name": "dsml",
   "language": "python",
   "name": "python3"
  },
  "language_info": {
   "codemirror_mode": {
    "name": "ipython",
    "version": 3
   },
   "file_extension": ".py",
   "mimetype": "text/x-python",
   "name": "python",
   "nbconvert_exporter": "python",
   "pygments_lexer": "ipython3",
   "version": "3.12.0"
  }
 },
 "nbformat": 4,
 "nbformat_minor": 5
}
