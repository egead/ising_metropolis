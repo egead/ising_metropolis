{
 "cells": [
  {
   "cell_type": "markdown",
   "id": "87f4bee4",
   "metadata": {},
   "source": [
    "Ising Metropolis Module Playground"
   ]
  },
  {
   "cell_type": "code",
   "execution_count": 1,
   "id": "d4fcefb3",
   "metadata": {},
   "outputs": [],
   "source": [
    "import ising_metropolis as im \n",
    "import matplotlib.pyplot as plt"
   ]
  },
  {
   "cell_type": "code",
   "execution_count": 9,
   "id": "53d7adb7",
   "metadata": {},
   "outputs": [
    {
     "data": {
      "image/png": "[encoded data removed]",
      "text/plain": [
       "<Figure size 480x480 with 1 Axes>"
      ]
     },
     "metadata": {},
     "output_type": "display_data"
    }
   ],
   "source": [
    "random_grid = im.create_random_grid(grid_shape=(4,4))\n",
    "plt.matshow(random_grid);"
   ]
  },
  {
   "cell_type": "code",
   "execution_count": 10,
   "id": "4acd0228",
   "metadata": {},
   "outputs": [
    {
     "data": {
      "text/plain": [
       "0"
      ]
     },
     "execution_count": 10,
     "metadata": {},
     "output_type": "execute_result"
    }
   ],
   "source": [
    "random_grid.sum()"
   ]
  },
  {
   "cell_type": "code",
   "execution_count": 11,
   "id": "5351079b",
   "metadata": {},
   "outputs": [],
   "source": [
    "random_spin_coordinates= im.select_random_spin(random_grid)"
   ]
  },
  {
   "cell_type": "code",
   "execution_count": 12,
   "id": "9bd7d8fa",
   "metadata": {},
   "outputs": [
    {
     "data": {
      "text/plain": [
       "[3, 1]"
      ]
     },
     "execution_count": 12,
     "metadata": {},
     "output_type": "execute_result"
    }
   ],
   "source": [
    "random_spin_coordinates"
   ]
  },
  {
   "cell_type": "code",
   "execution_count": 13,
   "id": "d63e91e8",
   "metadata": {},
   "outputs": [
    {
     "data": {
      "text/plain": [
       "4.0"
      ]
     },
     "execution_count": 13,
     "metadata": {},
     "output_type": "execute_result"
    }
   ],
   "source": [
    "L = random_grid.shape[0]\n",
    "total_energy=0.0\n",
    "J=1\n",
    "for i in range(L):\n",
    "    for j in range(L):\n",
    "        right = (i+1)%L \n",
    "        down = (j+1)%L\n",
    "        total_energy -= J*random_grid[i,j]*(random_grid[right,j]+random_grid[i,down])\n",
    "\n",
    "total_energy"
   ]
  },
  {
   "cell_type": "code",
   "execution_count": 14,
   "id": "7a716e53",
   "metadata": {},
   "outputs": [],
   "source": [
    "new_grid=im.flip(random_grid, random_spin_coordinates)"
   ]
  },
  {
   "cell_type": "code",
   "execution_count": 15,
   "id": "c82c0d13",
   "metadata": {},
   "outputs": [
    {
     "data": {
      "image/png": "[encoded data removed]",
      "text/plain": [
       "<Figure size 480x480 with 1 Axes>"
      ]
     },
     "metadata": {},
     "output_type": "display_data"
    }
   ],
   "source": [
    "plt.matshow(new_grid);"
   ]
  }
 ],
 "metadata": {
  "kernelspec": {
   "display_name": "dsml",
   "language": "python",
   "name": "python3"
  },
  "language_info": {
   "codemirror_mode": {
    "name": "ipython",
    "version": 3
   },
   "file_extension": ".py",
   "mimetype": "text/x-python",
   "name": "python",
   "nbconvert_exporter": "python",
   "pygments_lexer": "ipython3",
   "version": "3.12.0"
  }
 },
 "nbformat": 4,
 "nbformat_minor": 5
}
